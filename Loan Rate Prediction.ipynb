{
 "cells": [
  {
   "cell_type": "markdown",
   "metadata": {},
   "source": [
    "### Step 0: Module Loading"
   ]
  },
  {
   "cell_type": "code",
   "execution_count": 1,
   "metadata": {},
   "outputs": [],
   "source": [
    "%matplotlib inline\n",
    "\n",
    "import numpy as np\n",
    "import pandas as pd\n",
    "import seaborn as sns\n",
    "import matplotlib as mpl\n",
    "import matplotlib.pyplot as plt\n",
    "import sklearn\n",
    "from sklearn import preprocessing\n",
    "\n",
    "import warnings\n",
    "warnings.filterwarnings(\"ignore\")"
   ]
  },
  {
   "cell_type": "markdown",
   "metadata": {},
   "source": [
    "### Step1: Model-Selection Data Loading and Cleaning"
   ]
  },
  {
   "cell_type": "code",
   "execution_count": 2,
   "metadata": {},
   "outputs": [],
   "source": [
    "df = pd.read_csv('/Users/Xingkang/Desktop/UChicago/Quarter 2/MSCA 31008 Data Mining Principles/Assignment_3/Loan_Prediction/Data for Cleaning & Modeling.csv')"
   ]
  },
  {
   "cell_type": "code",
   "execution_count": 3,
   "metadata": {},
   "outputs": [
    {
     "name": "stdout",
     "output_type": "stream",
     "text": [
      "<class 'pandas.core.frame.DataFrame'>\n",
      "RangeIndex: 400000 entries, 0 to 399999\n",
      "Data columns (total 32 columns):\n",
      " #   Column  Non-Null Count   Dtype  \n",
      "---  ------  --------------   -----  \n",
      " 0   X1      338990 non-null  object \n",
      " 1   X2      399999 non-null  float64\n",
      " 2   X3      399999 non-null  float64\n",
      " 3   X4      399999 non-null  object \n",
      " 4   X5      399999 non-null  object \n",
      " 5   X6      399999 non-null  object \n",
      " 6   X7      399999 non-null  object \n",
      " 7   X8      338730 non-null  object \n",
      " 8   X9      338730 non-null  object \n",
      " 9   X10     376014 non-null  object \n",
      " 10  X11     382462 non-null  object \n",
      " 11  X12     338639 non-null  object \n",
      " 12  X13     338972 non-null  float64\n",
      " 13  X14     399999 non-null  object \n",
      " 14  X15     399999 non-null  object \n",
      " 15  X16     123560 non-null  object \n",
      " 16  X17     399999 non-null  object \n",
      " 17  X18     399981 non-null  object \n",
      " 18  X19     399999 non-null  object \n",
      " 19  X20     399999 non-null  object \n",
      " 20  X21     399999 non-null  float64\n",
      " 21  X22     399999 non-null  float64\n",
      " 22  X23     399999 non-null  object \n",
      " 23  X24     399999 non-null  float64\n",
      " 24  X25     181198 non-null  float64\n",
      " 25  X26     51155 non-null   float64\n",
      " 26  X27     399999 non-null  float64\n",
      " 27  X28     399999 non-null  float64\n",
      " 28  X29     399999 non-null  float64\n",
      " 29  X30     399733 non-null  object \n",
      " 30  X31     399999 non-null  float64\n",
      " 31  X32     399999 non-null  object \n",
      "dtypes: float64(12), object(20)\n",
      "memory usage: 97.7+ MB\n"
     ]
    }
   ],
   "source": [
    "df.info()"
   ]
  },
  {
   "cell_type": "markdown",
   "metadata": {},
   "source": [
    "#### Check missing values for df"
   ]
  },
  {
   "cell_type": "code",
   "execution_count": 4,
   "metadata": {
    "scrolled": true
   },
   "outputs": [
    {
     "data": {
      "text/plain": [
       "X1      61010\n",
       "X2          1\n",
       "X3          1\n",
       "X4          1\n",
       "X5          1\n",
       "X6          1\n",
       "X7          1\n",
       "X8      61270\n",
       "X9      61270\n",
       "X10     23986\n",
       "X11     17538\n",
       "X12     61361\n",
       "X13     61028\n",
       "X14         1\n",
       "X15         1\n",
       "X16    276440\n",
       "X17         1\n",
       "X18        19\n",
       "X19         1\n",
       "X20         1\n",
       "X21         1\n",
       "X22         1\n",
       "X23         1\n",
       "X24         1\n",
       "X25    218802\n",
       "X26    348845\n",
       "X27         1\n",
       "X28         1\n",
       "X29         1\n",
       "X30       267\n",
       "X31         1\n",
       "X32         1\n",
       "dtype: int64"
      ]
     },
     "execution_count": 4,
     "metadata": {},
     "output_type": "execute_result"
    }
   ],
   "source": [
    "df.isnull().sum()"
   ]
  },
  {
   "cell_type": "markdown",
   "metadata": {},
   "source": [
    "#### Drop the one row that is almost empty"
   ]
  },
  {
   "cell_type": "code",
   "execution_count": 5,
   "metadata": {
    "scrolled": false
   },
   "outputs": [
    {
     "data": {
      "text/html": [
       "<div>\n",
       "<style scoped>\n",
       "    .dataframe tbody tr th:only-of-type {\n",
       "        vertical-align: middle;\n",
       "    }\n",
       "\n",
       "    .dataframe tbody tr th {\n",
       "        vertical-align: top;\n",
       "    }\n",
       "\n",
       "    .dataframe thead th {\n",
       "        text-align: right;\n",
       "    }\n",
       "</style>\n",
       "<table border=\"1\" class=\"dataframe\">\n",
       "  <thead>\n",
       "    <tr style=\"text-align: right;\">\n",
       "      <th></th>\n",
       "      <th>X1</th>\n",
       "      <th>X2</th>\n",
       "      <th>X3</th>\n",
       "      <th>X4</th>\n",
       "      <th>X5</th>\n",
       "      <th>X6</th>\n",
       "      <th>X7</th>\n",
       "      <th>X8</th>\n",
       "      <th>X9</th>\n",
       "      <th>X10</th>\n",
       "      <th>...</th>\n",
       "      <th>X23</th>\n",
       "      <th>X24</th>\n",
       "      <th>X25</th>\n",
       "      <th>X26</th>\n",
       "      <th>X27</th>\n",
       "      <th>X28</th>\n",
       "      <th>X29</th>\n",
       "      <th>X30</th>\n",
       "      <th>X31</th>\n",
       "      <th>X32</th>\n",
       "    </tr>\n",
       "  </thead>\n",
       "  <tbody>\n",
       "    <tr>\n",
       "      <th>364111</th>\n",
       "      <td>7.69%</td>\n",
       "      <td>NaN</td>\n",
       "      <td>NaN</td>\n",
       "      <td>NaN</td>\n",
       "      <td>NaN</td>\n",
       "      <td>NaN</td>\n",
       "      <td>NaN</td>\n",
       "      <td>NaN</td>\n",
       "      <td>NaN</td>\n",
       "      <td>NaN</td>\n",
       "      <td>...</td>\n",
       "      <td>NaN</td>\n",
       "      <td>NaN</td>\n",
       "      <td>NaN</td>\n",
       "      <td>NaN</td>\n",
       "      <td>NaN</td>\n",
       "      <td>NaN</td>\n",
       "      <td>NaN</td>\n",
       "      <td>NaN</td>\n",
       "      <td>NaN</td>\n",
       "      <td>NaN</td>\n",
       "    </tr>\n",
       "  </tbody>\n",
       "</table>\n",
       "<p>1 rows × 32 columns</p>\n",
       "</div>"
      ],
      "text/plain": [
       "           X1  X2  X3   X4   X5   X6   X7   X8   X9  X10  ...  X23 X24  X25  \\\n",
       "364111  7.69% NaN NaN  NaN  NaN  NaN  NaN  NaN  NaN  NaN  ...  NaN NaN  NaN   \n",
       "\n",
       "       X26 X27 X28 X29  X30 X31  X32  \n",
       "364111 NaN NaN NaN NaN  NaN NaN  NaN  \n",
       "\n",
       "[1 rows x 32 columns]"
      ]
     },
     "execution_count": 5,
     "metadata": {},
     "output_type": "execute_result"
    }
   ],
   "source": [
    "df[df['X2'].isnull()]"
   ]
  },
  {
   "cell_type": "code",
   "execution_count": 6,
   "metadata": {},
   "outputs": [],
   "source": [
    "df.dropna(subset=['X2'],axis=0,inplace=True)"
   ]
  },
  {
   "cell_type": "code",
   "execution_count": 7,
   "metadata": {
    "scrolled": true
   },
   "outputs": [
    {
     "data": {
      "text/html": [
       "<div>\n",
       "<style scoped>\n",
       "    .dataframe tbody tr th:only-of-type {\n",
       "        vertical-align: middle;\n",
       "    }\n",
       "\n",
       "    .dataframe tbody tr th {\n",
       "        vertical-align: top;\n",
       "    }\n",
       "\n",
       "    .dataframe thead th {\n",
       "        text-align: right;\n",
       "    }\n",
       "</style>\n",
       "<table border=\"1\" class=\"dataframe\">\n",
       "  <thead>\n",
       "    <tr style=\"text-align: right;\">\n",
       "      <th></th>\n",
       "      <th>X1</th>\n",
       "      <th>X2</th>\n",
       "      <th>X3</th>\n",
       "      <th>X4</th>\n",
       "      <th>X5</th>\n",
       "      <th>X6</th>\n",
       "      <th>X7</th>\n",
       "      <th>X8</th>\n",
       "      <th>X9</th>\n",
       "      <th>X10</th>\n",
       "      <th>...</th>\n",
       "      <th>X23</th>\n",
       "      <th>X24</th>\n",
       "      <th>X25</th>\n",
       "      <th>X26</th>\n",
       "      <th>X27</th>\n",
       "      <th>X28</th>\n",
       "      <th>X29</th>\n",
       "      <th>X30</th>\n",
       "      <th>X31</th>\n",
       "      <th>X32</th>\n",
       "    </tr>\n",
       "  </thead>\n",
       "  <tbody>\n",
       "    <tr>\n",
       "      <th>0</th>\n",
       "      <td>11.89%</td>\n",
       "      <td>54734.0</td>\n",
       "      <td>80364.0</td>\n",
       "      <td>$25,000</td>\n",
       "      <td>$25,000</td>\n",
       "      <td>$19,080</td>\n",
       "      <td>36 months</td>\n",
       "      <td>B</td>\n",
       "      <td>B4</td>\n",
       "      <td>NaN</td>\n",
       "      <td>...</td>\n",
       "      <td>Feb-94</td>\n",
       "      <td>0.0</td>\n",
       "      <td>NaN</td>\n",
       "      <td>NaN</td>\n",
       "      <td>10.0</td>\n",
       "      <td>0.0</td>\n",
       "      <td>28854.0</td>\n",
       "      <td>52.10%</td>\n",
       "      <td>42.0</td>\n",
       "      <td>f</td>\n",
       "    </tr>\n",
       "    <tr>\n",
       "      <th>1</th>\n",
       "      <td>10.71%</td>\n",
       "      <td>55742.0</td>\n",
       "      <td>114426.0</td>\n",
       "      <td>$7,000</td>\n",
       "      <td>$7,000</td>\n",
       "      <td>$673</td>\n",
       "      <td>36 months</td>\n",
       "      <td>B</td>\n",
       "      <td>B5</td>\n",
       "      <td>CNN</td>\n",
       "      <td>...</td>\n",
       "      <td>Oct-00</td>\n",
       "      <td>0.0</td>\n",
       "      <td>NaN</td>\n",
       "      <td>NaN</td>\n",
       "      <td>7.0</td>\n",
       "      <td>0.0</td>\n",
       "      <td>33623.0</td>\n",
       "      <td>76.70%</td>\n",
       "      <td>7.0</td>\n",
       "      <td>f</td>\n",
       "    </tr>\n",
       "    <tr>\n",
       "      <th>2</th>\n",
       "      <td>16.99%</td>\n",
       "      <td>57167.0</td>\n",
       "      <td>137225.0</td>\n",
       "      <td>$25,000</td>\n",
       "      <td>$25,000</td>\n",
       "      <td>$24,725</td>\n",
       "      <td>36 months</td>\n",
       "      <td>D</td>\n",
       "      <td>D3</td>\n",
       "      <td>Web Programmer</td>\n",
       "      <td>...</td>\n",
       "      <td>Jun-00</td>\n",
       "      <td>0.0</td>\n",
       "      <td>41.0</td>\n",
       "      <td>NaN</td>\n",
       "      <td>10.0</td>\n",
       "      <td>0.0</td>\n",
       "      <td>19878.0</td>\n",
       "      <td>66.30%</td>\n",
       "      <td>17.0</td>\n",
       "      <td>f</td>\n",
       "    </tr>\n",
       "    <tr>\n",
       "      <th>3</th>\n",
       "      <td>13.11%</td>\n",
       "      <td>57245.0</td>\n",
       "      <td>138150.0</td>\n",
       "      <td>$1,200</td>\n",
       "      <td>$1,200</td>\n",
       "      <td>$1,200</td>\n",
       "      <td>36 months</td>\n",
       "      <td>C</td>\n",
       "      <td>C2</td>\n",
       "      <td>city of beaumont texas</td>\n",
       "      <td>...</td>\n",
       "      <td>Jan-85</td>\n",
       "      <td>0.0</td>\n",
       "      <td>64.0</td>\n",
       "      <td>NaN</td>\n",
       "      <td>5.0</td>\n",
       "      <td>0.0</td>\n",
       "      <td>2584.0</td>\n",
       "      <td>40.40%</td>\n",
       "      <td>31.0</td>\n",
       "      <td>f</td>\n",
       "    </tr>\n",
       "    <tr>\n",
       "      <th>4</th>\n",
       "      <td>13.57%</td>\n",
       "      <td>57416.0</td>\n",
       "      <td>139635.0</td>\n",
       "      <td>$10,800</td>\n",
       "      <td>$10,800</td>\n",
       "      <td>$10,692</td>\n",
       "      <td>36 months</td>\n",
       "      <td>C</td>\n",
       "      <td>C3</td>\n",
       "      <td>State Farm Insurance</td>\n",
       "      <td>...</td>\n",
       "      <td>Dec-96</td>\n",
       "      <td>1.0</td>\n",
       "      <td>58.0</td>\n",
       "      <td>NaN</td>\n",
       "      <td>14.0</td>\n",
       "      <td>0.0</td>\n",
       "      <td>3511.0</td>\n",
       "      <td>25.60%</td>\n",
       "      <td>40.0</td>\n",
       "      <td>f</td>\n",
       "    </tr>\n",
       "    <tr>\n",
       "      <th>5</th>\n",
       "      <td>19.05%</td>\n",
       "      <td>58524.0</td>\n",
       "      <td>149512.0</td>\n",
       "      <td>$7,200</td>\n",
       "      <td>$7,200</td>\n",
       "      <td>$7,200</td>\n",
       "      <td>36 months</td>\n",
       "      <td>D</td>\n",
       "      <td>D4</td>\n",
       "      <td>Arkwright</td>\n",
       "      <td>...</td>\n",
       "      <td>Apr-94</td>\n",
       "      <td>0.0</td>\n",
       "      <td>26.0</td>\n",
       "      <td>NaN</td>\n",
       "      <td>6.0</td>\n",
       "      <td>0.0</td>\n",
       "      <td>3874.0</td>\n",
       "      <td>90.10%</td>\n",
       "      <td>25.0</td>\n",
       "      <td>f</td>\n",
       "    </tr>\n",
       "    <tr>\n",
       "      <th>6</th>\n",
       "      <td>10.08%</td>\n",
       "      <td>58915.0</td>\n",
       "      <td>153417.0</td>\n",
       "      <td>$7,500</td>\n",
       "      <td>$5,025</td>\n",
       "      <td>$557</td>\n",
       "      <td>36 months</td>\n",
       "      <td>B</td>\n",
       "      <td>B3</td>\n",
       "      <td>QUalcomm Inc</td>\n",
       "      <td>...</td>\n",
       "      <td>Nov-00</td>\n",
       "      <td>1.0</td>\n",
       "      <td>NaN</td>\n",
       "      <td>NaN</td>\n",
       "      <td>3.0</td>\n",
       "      <td>0.0</td>\n",
       "      <td>33667.0</td>\n",
       "      <td>73.20%</td>\n",
       "      <td>11.0</td>\n",
       "      <td>f</td>\n",
       "    </tr>\n",
       "    <tr>\n",
       "      <th>7</th>\n",
       "      <td>14.26%</td>\n",
       "      <td>59006.0</td>\n",
       "      <td>154254.0</td>\n",
       "      <td>$3,000</td>\n",
       "      <td>$3,000</td>\n",
       "      <td>$2,988</td>\n",
       "      <td>36 months</td>\n",
       "      <td>C</td>\n",
       "      <td>C5</td>\n",
       "      <td>NaN</td>\n",
       "      <td>...</td>\n",
       "      <td>Jul-98</td>\n",
       "      <td>0.0</td>\n",
       "      <td>13.0</td>\n",
       "      <td>0.0</td>\n",
       "      <td>13.0</td>\n",
       "      <td>0.0</td>\n",
       "      <td>4740.0</td>\n",
       "      <td>39.50%</td>\n",
       "      <td>23.0</td>\n",
       "      <td>f</td>\n",
       "    </tr>\n",
       "    <tr>\n",
       "      <th>8</th>\n",
       "      <td>7.88%</td>\n",
       "      <td>61390.0</td>\n",
       "      <td>182594.0</td>\n",
       "      <td>$4,000</td>\n",
       "      <td>$4,000</td>\n",
       "      <td>$3,900</td>\n",
       "      <td>36 months</td>\n",
       "      <td>A</td>\n",
       "      <td>A5</td>\n",
       "      <td>NaN</td>\n",
       "      <td>...</td>\n",
       "      <td>May-93</td>\n",
       "      <td>0.0</td>\n",
       "      <td>NaN</td>\n",
       "      <td>NaN</td>\n",
       "      <td>11.0</td>\n",
       "      <td>0.0</td>\n",
       "      <td>50807.0</td>\n",
       "      <td>51%</td>\n",
       "      <td>19.0</td>\n",
       "      <td>f</td>\n",
       "    </tr>\n",
       "    <tr>\n",
       "      <th>9</th>\n",
       "      <td>14.96%</td>\n",
       "      <td>61419.0</td>\n",
       "      <td>182917.0</td>\n",
       "      <td>$5,600</td>\n",
       "      <td>$5,600</td>\n",
       "      <td>$5,525</td>\n",
       "      <td>36 months</td>\n",
       "      <td>D</td>\n",
       "      <td>D2</td>\n",
       "      <td>Pension Benefit Guaranty Corporation</td>\n",
       "      <td>...</td>\n",
       "      <td>Jun-01</td>\n",
       "      <td>0.0</td>\n",
       "      <td>38.0</td>\n",
       "      <td>63.0</td>\n",
       "      <td>5.0</td>\n",
       "      <td>1.0</td>\n",
       "      <td>3839.0</td>\n",
       "      <td>76.80%</td>\n",
       "      <td>9.0</td>\n",
       "      <td>f</td>\n",
       "    </tr>\n",
       "  </tbody>\n",
       "</table>\n",
       "<p>10 rows × 32 columns</p>\n",
       "</div>"
      ],
      "text/plain": [
       "       X1       X2        X3       X4       X5       X6          X7 X8  X9  \\\n",
       "0  11.89%  54734.0   80364.0  $25,000  $25,000  $19,080   36 months  B  B4   \n",
       "1  10.71%  55742.0  114426.0   $7,000   $7,000     $673   36 months  B  B5   \n",
       "2  16.99%  57167.0  137225.0  $25,000  $25,000  $24,725   36 months  D  D3   \n",
       "3  13.11%  57245.0  138150.0   $1,200   $1,200   $1,200   36 months  C  C2   \n",
       "4  13.57%  57416.0  139635.0  $10,800  $10,800  $10,692   36 months  C  C3   \n",
       "5  19.05%  58524.0  149512.0   $7,200   $7,200   $7,200   36 months  D  D4   \n",
       "6  10.08%  58915.0  153417.0   $7,500   $5,025     $557   36 months  B  B3   \n",
       "7  14.26%  59006.0  154254.0   $3,000   $3,000   $2,988   36 months  C  C5   \n",
       "8   7.88%  61390.0  182594.0   $4,000   $4,000   $3,900   36 months  A  A5   \n",
       "9  14.96%  61419.0  182917.0   $5,600   $5,600   $5,525   36 months  D  D2   \n",
       "\n",
       "                                    X10  ...     X23  X24   X25   X26   X27  \\\n",
       "0                                   NaN  ...  Feb-94  0.0   NaN   NaN  10.0   \n",
       "1                                   CNN  ...  Oct-00  0.0   NaN   NaN   7.0   \n",
       "2                        Web Programmer  ...  Jun-00  0.0  41.0   NaN  10.0   \n",
       "3                city of beaumont texas  ...  Jan-85  0.0  64.0   NaN   5.0   \n",
       "4                  State Farm Insurance  ...  Dec-96  1.0  58.0   NaN  14.0   \n",
       "5                             Arkwright  ...  Apr-94  0.0  26.0   NaN   6.0   \n",
       "6                          QUalcomm Inc  ...  Nov-00  1.0   NaN   NaN   3.0   \n",
       "7                                   NaN  ...  Jul-98  0.0  13.0   0.0  13.0   \n",
       "8                                   NaN  ...  May-93  0.0   NaN   NaN  11.0   \n",
       "9  Pension Benefit Guaranty Corporation  ...  Jun-01  0.0  38.0  63.0   5.0   \n",
       "\n",
       "   X28      X29     X30   X31 X32  \n",
       "0  0.0  28854.0  52.10%  42.0   f  \n",
       "1  0.0  33623.0  76.70%   7.0   f  \n",
       "2  0.0  19878.0  66.30%  17.0   f  \n",
       "3  0.0   2584.0  40.40%  31.0   f  \n",
       "4  0.0   3511.0  25.60%  40.0   f  \n",
       "5  0.0   3874.0  90.10%  25.0   f  \n",
       "6  0.0  33667.0  73.20%  11.0   f  \n",
       "7  0.0   4740.0  39.50%  23.0   f  \n",
       "8  0.0  50807.0     51%  19.0   f  \n",
       "9  1.0   3839.0  76.80%   9.0   f  \n",
       "\n",
       "[10 rows x 32 columns]"
      ]
     },
     "execution_count": 7,
     "metadata": {},
     "output_type": "execute_result"
    }
   ],
   "source": [
    "df.head(10)"
   ]
  },
  {
   "cell_type": "markdown",
   "metadata": {},
   "source": [
    "#### X1- Interest Rate on the loan: Drop all the rows that don't have X1 data (since they can't be used for model training)\n",
    "- Clean and convert str to numerical data type"
   ]
  },
  {
   "cell_type": "code",
   "execution_count": 8,
   "metadata": {},
   "outputs": [],
   "source": [
    "df.dropna(subset=['X1'],inplace=True)"
   ]
  },
  {
   "cell_type": "code",
   "execution_count": 9,
   "metadata": {},
   "outputs": [],
   "source": [
    "df['X1'] = df['X1'].apply(lambda x: x.split('%')[0])"
   ]
  },
  {
   "cell_type": "code",
   "execution_count": 10,
   "metadata": {
    "scrolled": true
   },
   "outputs": [],
   "source": [
    "df['X1'] = pd.to_numeric(df['X1'])/100"
   ]
  },
  {
   "cell_type": "code",
   "execution_count": 11,
   "metadata": {
    "scrolled": true
   },
   "outputs": [
    {
     "data": {
      "text/plain": [
       "0    0.1189\n",
       "1    0.1071\n",
       "2    0.1699\n",
       "3    0.1311\n",
       "4    0.1357\n",
       "5    0.1905\n",
       "6    0.1008\n",
       "7    0.1426\n",
       "8    0.0788\n",
       "9    0.1496\n",
       "Name: X1, dtype: float64"
      ]
     },
     "execution_count": 11,
     "metadata": {},
     "output_type": "execute_result"
    }
   ],
   "source": [
    "df['X1'].head(10)"
   ]
  },
  {
   "cell_type": "markdown",
   "metadata": {},
   "source": [
    "#### X2 (Loan ID), X3 (Borrower ID), X4 (Loan Amount Requested): Drop because they are not relevant to the interest rate\n",
    "- X4 is not relevant because X5, which is loan amount actaully awarded, is a much more relevent indicator for interest rate"
   ]
  },
  {
   "cell_type": "code",
   "execution_count": 12,
   "metadata": {},
   "outputs": [],
   "source": [
    "df.drop('X2',axis=1,inplace=True)"
   ]
  },
  {
   "cell_type": "code",
   "execution_count": 13,
   "metadata": {},
   "outputs": [],
   "source": [
    "df.drop('X3',axis=1,inplace=True)"
   ]
  },
  {
   "cell_type": "code",
   "execution_count": 14,
   "metadata": {},
   "outputs": [],
   "source": [
    "df.drop('X4',axis=1,inplace=True)"
   ]
  },
  {
   "cell_type": "markdown",
   "metadata": {},
   "source": [
    "#### X5 - Loan Amount Funded\n",
    "- Get rid of common in the data and converted str to numeric"
   ]
  },
  {
   "cell_type": "code",
   "execution_count": 15,
   "metadata": {},
   "outputs": [],
   "source": [
    "df['X5'] = df['X5'].apply(lambda x: x.split('$')[1])\n",
    "df['X5'] = df['X5'].str.replace(',','')\n",
    "df['X5'] = pd.to_numeric(df['X5'])"
   ]
  },
  {
   "cell_type": "markdown",
   "metadata": {},
   "source": [
    "#### X6 - Investor-Funded Portion of Loan\n",
    "- Same procedure as above"
   ]
  },
  {
   "cell_type": "code",
   "execution_count": 16,
   "metadata": {},
   "outputs": [],
   "source": [
    "df['X6'] = df['X6'].apply(lambda x: x.split('$')[1])\n",
    "df['X6'] = df['X6'].str.replace(',','')\n",
    "df['X6'] = pd.to_numeric(df['X6'])"
   ]
  },
  {
   "cell_type": "code",
   "execution_count": 17,
   "metadata": {
    "scrolled": true
   },
   "outputs": [
    {
     "data": {
      "text/plain": [
       "X1     0.000000\n",
       "X5     0.000000\n",
       "X6     0.000000\n",
       "X7     0.000000\n",
       "X8     0.153002\n",
       "X9     0.153002\n",
       "X10    0.059754\n",
       "X11    0.043642\n",
       "X12    0.153276\n",
       "X13    0.152663\n",
       "X14    0.000000\n",
       "X15    0.000000\n",
       "X16    0.690090\n",
       "X17    0.000000\n",
       "X18    0.000047\n",
       "X19    0.000000\n",
       "X20    0.000000\n",
       "X21    0.000000\n",
       "X22    0.000000\n",
       "X23    0.000000\n",
       "X24    0.000000\n",
       "X25    0.547086\n",
       "X26    0.871972\n",
       "X27    0.000000\n",
       "X28    0.000000\n",
       "X29    0.000000\n",
       "X30    0.000661\n",
       "X31    0.000000\n",
       "X32    0.000000\n",
       "dtype: float64"
      ]
     },
     "execution_count": 17,
     "metadata": {},
     "output_type": "execute_result"
    }
   ],
   "source": [
    "df.isnull().sum()/len(df)"
   ]
  },
  {
   "cell_type": "markdown",
   "metadata": {},
   "source": [
    "#### X7 - Numer of Payments (36 or 60 months)\n",
    "- Convert '36 months' to 1 and '60 months' to 0"
   ]
  },
  {
   "cell_type": "code",
   "execution_count": 18,
   "metadata": {},
   "outputs": [],
   "source": [
    "df['X7'] = df['X7'].apply(lambda x: 1 if x==' 36 months' else 0)"
   ]
  },
  {
   "cell_type": "code",
   "execution_count": 19,
   "metadata": {
    "scrolled": true
   },
   "outputs": [
    {
     "data": {
      "text/plain": [
       "1    247791\n",
       "0     91198\n",
       "Name: X7, dtype: int64"
      ]
     },
     "execution_count": 19,
     "metadata": {},
     "output_type": "execute_result"
    }
   ],
   "source": [
    "df['X7'].value_counts()"
   ]
  },
  {
   "cell_type": "markdown",
   "metadata": {},
   "source": [
    "#### X8 - Loan Grade\n",
    "- Drop because X9 is a sub loan grade which is more specific and relevant"
   ]
  },
  {
   "cell_type": "code",
   "execution_count": 20,
   "metadata": {},
   "outputs": [],
   "source": [
    "df.drop('X8',axis=1,inplace=True)"
   ]
  },
  {
   "cell_type": "markdown",
   "metadata": {},
   "source": [
    "#### X9 - Loan Subgrade\n",
    "- Impute the NaN values with mode\n",
    "- Use LabelEncoder to convert categorical values to numerical"
   ]
  },
  {
   "cell_type": "code",
   "execution_count": 21,
   "metadata": {
    "scrolled": false
   },
   "outputs": [
    {
     "data": {
      "text/plain": [
       "array(['B4', 'B5', 'D3', 'C2', 'C3', 'D4', 'B3', 'C5', 'A5', 'D2', 'B1',\n",
       "       'C4', 'A4', 'A3', 'C1', 'E4', 'B2', 'A2', 'E2', 'E1', 'D1', 'F1',\n",
       "       'F2', 'A1', 'F3', 'E5', 'D5', nan, 'E3', 'F4', 'G5', 'F5', 'G1',\n",
       "       'G4', 'G3', 'G2'], dtype=object)"
      ]
     },
     "execution_count": 21,
     "metadata": {},
     "output_type": "execute_result"
    }
   ],
   "source": [
    "df['X9'].unique()"
   ]
  },
  {
   "cell_type": "code",
   "execution_count": 22,
   "metadata": {},
   "outputs": [],
   "source": [
    "df['X9'].fillna(df['X9'].mode()[0],inplace=True)"
   ]
  },
  {
   "cell_type": "code",
   "execution_count": 23,
   "metadata": {},
   "outputs": [
    {
     "data": {
      "text/plain": [
       "0"
      ]
     },
     "execution_count": 23,
     "metadata": {},
     "output_type": "execute_result"
    }
   ],
   "source": [
    "df['X9'].isnull().sum()"
   ]
  },
  {
   "cell_type": "code",
   "execution_count": 24,
   "metadata": {},
   "outputs": [],
   "source": [
    "le9 = preprocessing.LabelEncoder()\n",
    "df['X9'] = le9.fit_transform(df['X9'])"
   ]
  },
  {
   "cell_type": "markdown",
   "metadata": {},
   "source": [
    "#### X10 - Employer or Job Title\n",
    "- Delete because we don't think it is relevant to interest, and it is not trustworthy because it is self-filled"
   ]
  },
  {
   "cell_type": "code",
   "execution_count": 25,
   "metadata": {},
   "outputs": [],
   "source": [
    "df.drop('X10',axis=1,inplace=True)"
   ]
  },
  {
   "cell_type": "code",
   "execution_count": 26,
   "metadata": {
    "scrolled": true
   },
   "outputs": [
    {
     "data": {
      "text/plain": [
       "X1          0\n",
       "X5          0\n",
       "X6          0\n",
       "X7          0\n",
       "X9          0\n",
       "X11     14794\n",
       "X12     51959\n",
       "X13     51751\n",
       "X14         0\n",
       "X15         0\n",
       "X16    233933\n",
       "X17         0\n",
       "X18        16\n",
       "X19         0\n",
       "X20         0\n",
       "X21         0\n",
       "X22         0\n",
       "X23         0\n",
       "X24         0\n",
       "X25    185456\n",
       "X26    295589\n",
       "X27         0\n",
       "X28         0\n",
       "X29         0\n",
       "X30       224\n",
       "X31         0\n",
       "X32         0\n",
       "dtype: int64"
      ]
     },
     "execution_count": 26,
     "metadata": {},
     "output_type": "execute_result"
    }
   ],
   "source": [
    "df.isnull().sum()"
   ]
  },
  {
   "cell_type": "markdown",
   "metadata": {},
   "source": [
    "#### X11 - Number of Years Employed\n",
    "- Impute the missing values by mode\n",
    "- Convert str value to it corresponding numeric value"
   ]
  },
  {
   "cell_type": "code",
   "execution_count": 27,
   "metadata": {},
   "outputs": [
    {
     "data": {
      "text/plain": [
       "10+ years    108491\n",
       "2 years       30117\n",
       "3 years       26670\n",
       "< 1 year      26003\n",
       "5 years       23072\n",
       "1 year        21432\n",
       "4 years       20259\n",
       "6 years       19601\n",
       "7 years       19445\n",
       "8 years       16212\n",
       "9 years       12893\n",
       "Name: X11, dtype: int64"
      ]
     },
     "execution_count": 27,
     "metadata": {},
     "output_type": "execute_result"
    }
   ],
   "source": [
    "df['X11'].value_counts()"
   ]
  },
  {
   "cell_type": "code",
   "execution_count": 28,
   "metadata": {},
   "outputs": [],
   "source": [
    "df.loc[df['X11']=='10+ years','X11'] = 10\n",
    "df.loc[df['X11']=='1 year','X11'] = 1\n",
    "df.loc[df['X11']=='2 years','X11'] = 2\n",
    "df.loc[df['X11']=='3 years','X11'] = 3\n",
    "df.loc[df['X11']=='4 years','X11'] = 4\n",
    "df.loc[df['X11']=='5 years','X11'] = 5\n",
    "df.loc[df['X11']=='6 years','X11'] = 6\n",
    "df.loc[df['X11']=='7 years','X11'] = 7\n",
    "df.loc[df['X11']=='8 years','X11'] = 8\n",
    "df.loc[df['X11']=='9 years','X11'] = 9\n",
    "df.loc[df['X11']=='< 1 year','X11'] = 0"
   ]
  },
  {
   "cell_type": "code",
   "execution_count": 29,
   "metadata": {},
   "outputs": [],
   "source": [
    "df['X11']= pd.to_numeric(df['X11'])"
   ]
  },
  {
   "cell_type": "code",
   "execution_count": 30,
   "metadata": {},
   "outputs": [],
   "source": [
    "df['X11'].fillna(df['X11'].mode()[0],inplace=True)"
   ]
  },
  {
   "cell_type": "code",
   "execution_count": 31,
   "metadata": {
    "scrolled": true
   },
   "outputs": [
    {
     "data": {
      "text/plain": [
       "0"
      ]
     },
     "execution_count": 31,
     "metadata": {},
     "output_type": "execute_result"
    }
   ],
   "source": [
    "df['X11'].isnull().sum()"
   ]
  },
  {
   "cell_type": "markdown",
   "metadata": {},
   "source": [
    "#### X12 - Home Ownership Status\n",
    "- Put 'NONE' and 'ANY' values to 'OTHER' group\n",
    "- Covert categorial data to dummy variables by using get_dummies and concatate it back to original df\n",
    "- Drop the original X12 column"
   ]
  },
  {
   "cell_type": "code",
   "execution_count": 32,
   "metadata": {
    "scrolled": true
   },
   "outputs": [
    {
     "data": {
      "text/plain": [
       "MORTGAGE    145958\n",
       "RENT        115958\n",
       "OWN          24976\n",
       "OTHER          107\n",
       "NONE            30\n",
       "ANY              1\n",
       "Name: X12, dtype: int64"
      ]
     },
     "execution_count": 32,
     "metadata": {},
     "output_type": "execute_result"
    }
   ],
   "source": [
    "df['X12'].value_counts()"
   ]
  },
  {
   "cell_type": "code",
   "execution_count": 33,
   "metadata": {},
   "outputs": [],
   "source": [
    "df.loc[df['X12']=='NONE','X12'] = 'OTHER'\n",
    "df.loc[df['X12']=='ANY','X12'] = 'OTHER'"
   ]
  },
  {
   "cell_type": "code",
   "execution_count": 34,
   "metadata": {},
   "outputs": [
    {
     "data": {
      "text/plain": [
       "51959"
      ]
     },
     "execution_count": 34,
     "metadata": {},
     "output_type": "execute_result"
    }
   ],
   "source": [
    "df['X12'].isnull().sum()"
   ]
  },
  {
   "cell_type": "code",
   "execution_count": 35,
   "metadata": {},
   "outputs": [],
   "source": [
    "df['X12'].fillna('OTHER',inplace=True)"
   ]
  },
  {
   "cell_type": "code",
   "execution_count": 36,
   "metadata": {},
   "outputs": [],
   "source": [
    "X12 = pd.get_dummies(df['X12'],prefix='X12')"
   ]
  },
  {
   "cell_type": "code",
   "execution_count": 37,
   "metadata": {},
   "outputs": [],
   "source": [
    "df = pd.concat([df,X12],axis=1)"
   ]
  },
  {
   "cell_type": "code",
   "execution_count": 38,
   "metadata": {},
   "outputs": [],
   "source": [
    "df.drop('X12',axis=1,inplace=True)"
   ]
  },
  {
   "cell_type": "markdown",
   "metadata": {},
   "source": [
    "#### X13 - Annual Income of Borrower\n",
    "- Impute median for missing values"
   ]
  },
  {
   "cell_type": "code",
   "execution_count": 39,
   "metadata": {},
   "outputs": [],
   "source": [
    "df['X13'].fillna(df['X13'].median(),inplace=True)"
   ]
  },
  {
   "cell_type": "markdown",
   "metadata": {},
   "source": [
    "#### X14 - Income Verfied, Not Verified, or Income Source was Verified\n",
    "- Use dummy variable to convert categorical variables\n",
    "- Concate it back to df and delete the original X14"
   ]
  },
  {
   "cell_type": "code",
   "execution_count": 40,
   "metadata": {
    "scrolled": true
   },
   "outputs": [
    {
     "data": {
      "text/plain": [
       "VERIFIED - income           127040\n",
       "not verified                107873\n",
       "VERIFIED - income source    104076\n",
       "Name: X14, dtype: int64"
      ]
     },
     "execution_count": 40,
     "metadata": {},
     "output_type": "execute_result"
    }
   ],
   "source": [
    "df['X14'].value_counts()"
   ]
  },
  {
   "cell_type": "code",
   "execution_count": 41,
   "metadata": {},
   "outputs": [],
   "source": [
    "X14 = pd.get_dummies(df['X14'],prefix='X14')"
   ]
  },
  {
   "cell_type": "code",
   "execution_count": 42,
   "metadata": {},
   "outputs": [],
   "source": [
    "df = pd.concat([df,X14],axis=1)"
   ]
  },
  {
   "cell_type": "code",
   "execution_count": 43,
   "metadata": {},
   "outputs": [],
   "source": [
    "df.drop('X14',axis=1,inplace=True)"
   ]
  },
  {
   "cell_type": "code",
   "execution_count": 44,
   "metadata": {
    "scrolled": true
   },
   "outputs": [
    {
     "name": "stdout",
     "output_type": "stream",
     "text": [
      "<class 'pandas.core.frame.DataFrame'>\n",
      "Int64Index: 338989 entries, 0 to 399999\n",
      "Data columns (total 32 columns):\n",
      " #   Column                        Non-Null Count   Dtype  \n",
      "---  ------                        --------------   -----  \n",
      " 0   X1                            338989 non-null  float64\n",
      " 1   X5                            338989 non-null  int64  \n",
      " 2   X6                            338989 non-null  int64  \n",
      " 3   X7                            338989 non-null  int64  \n",
      " 4   X9                            338989 non-null  int64  \n",
      " 5   X11                           338989 non-null  float64\n",
      " 6   X13                           338989 non-null  float64\n",
      " 7   X15                           338989 non-null  object \n",
      " 8   X16                           105056 non-null  object \n",
      " 9   X17                           338989 non-null  object \n",
      " 10  X18                           338973 non-null  object \n",
      " 11  X19                           338989 non-null  object \n",
      " 12  X20                           338989 non-null  object \n",
      " 13  X21                           338989 non-null  float64\n",
      " 14  X22                           338989 non-null  float64\n",
      " 15  X23                           338989 non-null  object \n",
      " 16  X24                           338989 non-null  float64\n",
      " 17  X25                           153533 non-null  float64\n",
      " 18  X26                           43400 non-null   float64\n",
      " 19  X27                           338989 non-null  float64\n",
      " 20  X28                           338989 non-null  float64\n",
      " 21  X29                           338989 non-null  float64\n",
      " 22  X30                           338765 non-null  object \n",
      " 23  X31                           338989 non-null  float64\n",
      " 24  X32                           338989 non-null  object \n",
      " 25  X12_MORTGAGE                  338989 non-null  uint8  \n",
      " 26  X12_OTHER                     338989 non-null  uint8  \n",
      " 27  X12_OWN                       338989 non-null  uint8  \n",
      " 28  X12_RENT                      338989 non-null  uint8  \n",
      " 29  X14_VERIFIED - income         338989 non-null  uint8  \n",
      " 30  X14_VERIFIED - income source  338989 non-null  uint8  \n",
      " 31  X14_not verified              338989 non-null  uint8  \n",
      "dtypes: float64(12), int64(4), object(9), uint8(7)\n",
      "memory usage: 69.5+ MB\n"
     ]
    }
   ],
   "source": [
    "df.info()"
   ]
  },
  {
   "cell_type": "markdown",
   "metadata": {},
   "source": [
    "#### X15 (Date loan was issued), X16 (Reason for loan provided by borrower)\n",
    "- Delete because those two fields are not related to loan interest prediction per my discretion"
   ]
  },
  {
   "cell_type": "code",
   "execution_count": 45,
   "metadata": {},
   "outputs": [],
   "source": [
    "df.drop('X15',axis=1,inplace=True)"
   ]
  },
  {
   "cell_type": "code",
   "execution_count": 46,
   "metadata": {},
   "outputs": [],
   "source": [
    "df.drop('X16',axis=1,inplace=True)"
   ]
  },
  {
   "cell_type": "markdown",
   "metadata": {},
   "source": [
    "#### X17 - Loan Category, as provided by borrower\n",
    "- There are 14 unique values in this column\n",
    "- Use LabelEncoder to convert categorical to numerical"
   ]
  },
  {
   "cell_type": "code",
   "execution_count": 47,
   "metadata": {},
   "outputs": [
    {
     "data": {
      "text/plain": [
       "debt_consolidation    198226\n",
       "credit_card            75680\n",
       "home_improvement       19625\n",
       "other                  17154\n",
       "major_purchase          7312\n",
       "small_business          5359\n",
       "car                     4115\n",
       "medical                 3329\n",
       "moving                  2138\n",
       "wedding                 1934\n",
       "vacation                1848\n",
       "house                   1723\n",
       "educational              279\n",
       "renewable_energy         267\n",
       "Name: X17, dtype: int64"
      ]
     },
     "execution_count": 47,
     "metadata": {},
     "output_type": "execute_result"
    }
   ],
   "source": [
    "df['X17'].value_counts()"
   ]
  },
  {
   "cell_type": "code",
   "execution_count": 48,
   "metadata": {
    "scrolled": true
   },
   "outputs": [
    {
     "data": {
      "text/plain": [
       "0"
      ]
     },
     "execution_count": 48,
     "metadata": {},
     "output_type": "execute_result"
    }
   ],
   "source": [
    "df['X17'].isnull().sum()"
   ]
  },
  {
   "cell_type": "code",
   "execution_count": 49,
   "metadata": {
    "scrolled": true
   },
   "outputs": [
    {
     "data": {
      "text/plain": [
       "14"
      ]
     },
     "execution_count": 49,
     "metadata": {},
     "output_type": "execute_result"
    }
   ],
   "source": [
    "df['X17'].nunique()"
   ]
  },
  {
   "cell_type": "code",
   "execution_count": 50,
   "metadata": {},
   "outputs": [],
   "source": [
    "le17 = preprocessing.LabelEncoder()\n",
    "df['X17'] = le17.fit_transform(df['X17'])"
   ]
  },
  {
   "cell_type": "markdown",
   "metadata": {},
   "source": [
    "#### X18 (Loan title), X19 (First 3 numbers of zip code), X20 (State of borrower)\n",
    "- Delete all three columns because they are not relevant to loan interest prediction, per my discretion"
   ]
  },
  {
   "cell_type": "code",
   "execution_count": 51,
   "metadata": {},
   "outputs": [],
   "source": [
    "df.drop('X18',axis=1,inplace=True)"
   ]
  },
  {
   "cell_type": "code",
   "execution_count": 52,
   "metadata": {},
   "outputs": [],
   "source": [
    "df.drop('X19',axis=1,inplace=True)"
   ]
  },
  {
   "cell_type": "code",
   "execution_count": 53,
   "metadata": {},
   "outputs": [],
   "source": [
    "df.drop('X20',axis=1,inplace=True)"
   ]
  },
  {
   "cell_type": "code",
   "execution_count": 54,
   "metadata": {
    "scrolled": true
   },
   "outputs": [
    {
     "name": "stdout",
     "output_type": "stream",
     "text": [
      "<class 'pandas.core.frame.DataFrame'>\n",
      "Int64Index: 338989 entries, 0 to 399999\n",
      "Data columns (total 27 columns):\n",
      " #   Column                        Non-Null Count   Dtype  \n",
      "---  ------                        --------------   -----  \n",
      " 0   X1                            338989 non-null  float64\n",
      " 1   X5                            338989 non-null  int64  \n",
      " 2   X6                            338989 non-null  int64  \n",
      " 3   X7                            338989 non-null  int64  \n",
      " 4   X9                            338989 non-null  int64  \n",
      " 5   X11                           338989 non-null  float64\n",
      " 6   X13                           338989 non-null  float64\n",
      " 7   X17                           338989 non-null  int64  \n",
      " 8   X21                           338989 non-null  float64\n",
      " 9   X22                           338989 non-null  float64\n",
      " 10  X23                           338989 non-null  object \n",
      " 11  X24                           338989 non-null  float64\n",
      " 12  X25                           153533 non-null  float64\n",
      " 13  X26                           43400 non-null   float64\n",
      " 14  X27                           338989 non-null  float64\n",
      " 15  X28                           338989 non-null  float64\n",
      " 16  X29                           338989 non-null  float64\n",
      " 17  X30                           338765 non-null  object \n",
      " 18  X31                           338989 non-null  float64\n",
      " 19  X32                           338989 non-null  object \n",
      " 20  X12_MORTGAGE                  338989 non-null  uint8  \n",
      " 21  X12_OTHER                     338989 non-null  uint8  \n",
      " 22  X12_OWN                       338989 non-null  uint8  \n",
      " 23  X12_RENT                      338989 non-null  uint8  \n",
      " 24  X14_VERIFIED - income         338989 non-null  uint8  \n",
      " 25  X14_VERIFIED - income source  338989 non-null  uint8  \n",
      " 26  X14_not verified              338989 non-null  uint8  \n",
      "dtypes: float64(12), int64(5), object(3), uint8(7)\n",
      "memory usage: 56.6+ MB\n"
     ]
    }
   ],
   "source": [
    "df.info()"
   ]
  },
  {
   "cell_type": "markdown",
   "metadata": {},
   "source": [
    "#### X21 - Ratio of total monthly debt payments on debt obligations (excluding mortgage and requested loan) and monthly income\n",
    "- Keep and nothing to change"
   ]
  },
  {
   "cell_type": "markdown",
   "metadata": {},
   "source": [
    "#### X22 - Number of 30+ days past-due incidences of deliquency\n",
    "- No missing values and keep as it is "
   ]
  },
  {
   "cell_type": "code",
   "execution_count": 55,
   "metadata": {
    "scrolled": true
   },
   "outputs": [
    {
     "data": {
      "text/plain": [
       "0.0     280249\n",
       "1.0      39796\n",
       "2.0      11494\n",
       "3.0       3964\n",
       "4.0       1658\n",
       "5.0        841\n",
       "6.0        441\n",
       "7.0        226\n",
       "8.0        111\n",
       "9.0         68\n",
       "10.0        48\n",
       "11.0        27\n",
       "12.0        23\n",
       "13.0        13\n",
       "14.0         6\n",
       "18.0         6\n",
       "16.0         5\n",
       "15.0         4\n",
       "17.0         3\n",
       "19.0         2\n",
       "21.0         1\n",
       "22.0         1\n",
       "29.0         1\n",
       "24.0         1\n",
       "Name: X22, dtype: int64"
      ]
     },
     "execution_count": 55,
     "metadata": {},
     "output_type": "execute_result"
    }
   ],
   "source": [
    "df['X22'].value_counts()"
   ]
  },
  {
   "cell_type": "code",
   "execution_count": 56,
   "metadata": {},
   "outputs": [
    {
     "data": {
      "text/plain": [
       "0"
      ]
     },
     "execution_count": 56,
     "metadata": {},
     "output_type": "execute_result"
    }
   ],
   "source": [
    "df['X22'].isnull().sum()"
   ]
  },
  {
   "cell_type": "code",
   "execution_count": 57,
   "metadata": {},
   "outputs": [],
   "source": [
    "#df['X22'] = df['X22'].apply(lambda x: 10 if x>10 else x)"
   ]
  },
  {
   "cell_type": "markdown",
   "metadata": {},
   "source": [
    "#### X23 - Date the borrower's earliest reported credit line was open\n",
    "- Drop because it is not very related to loan interest rate"
   ]
  },
  {
   "cell_type": "code",
   "execution_count": 58,
   "metadata": {},
   "outputs": [],
   "source": [
    "df.drop('X23',axis=1,inplace=True)"
   ]
  },
  {
   "cell_type": "markdown",
   "metadata": {},
   "source": [
    "#### X24 - Number of inquiries by creditors during the past 6 months\n",
    "- Keep as it is, and there is no missing values"
   ]
  },
  {
   "cell_type": "code",
   "execution_count": 59,
   "metadata": {
    "scrolled": true
   },
   "outputs": [
    {
     "data": {
      "text/plain": [
       "0.0    172066\n",
       "1.0     95408\n",
       "2.0     43969\n",
       "3.0     19780\n",
       "4.0      5134\n",
       "5.0      1831\n",
       "6.0       739\n",
       "7.0        44\n",
       "8.0        18\n",
       "Name: X24, dtype: int64"
      ]
     },
     "execution_count": 59,
     "metadata": {},
     "output_type": "execute_result"
    }
   ],
   "source": [
    "df['X24'].value_counts()"
   ]
  },
  {
   "cell_type": "markdown",
   "metadata": {},
   "source": [
    "#### X25 - Number of inquiries by creditors during the past 6 months, X26 - Number of months since the last public record\n",
    "- Delete both columns because they have over 50% values missing"
   ]
  },
  {
   "cell_type": "code",
   "execution_count": 60,
   "metadata": {
    "scrolled": false
   },
   "outputs": [
    {
     "data": {
      "text/plain": [
       "0.5470855986477438"
      ]
     },
     "execution_count": 60,
     "metadata": {},
     "output_type": "execute_result"
    }
   ],
   "source": [
    "df['X25'].isnull().sum()/len(df['X25']) ## More than half the data is missing"
   ]
  },
  {
   "cell_type": "code",
   "execution_count": 61,
   "metadata": {},
   "outputs": [],
   "source": [
    "df.drop('X25',axis=1,inplace=True)"
   ]
  },
  {
   "cell_type": "code",
   "execution_count": 62,
   "metadata": {},
   "outputs": [
    {
     "data": {
      "text/plain": [
       "0.8719722468870671"
      ]
     },
     "execution_count": 62,
     "metadata": {},
     "output_type": "execute_result"
    }
   ],
   "source": [
    "df['X26'].isnull().sum()/len(df['X26']) ## Almost 90% of the data is missing"
   ]
  },
  {
   "cell_type": "code",
   "execution_count": 63,
   "metadata": {},
   "outputs": [],
   "source": [
    "df.drop('X26',axis=1,inplace=True)"
   ]
  },
  {
   "cell_type": "markdown",
   "metadata": {},
   "source": [
    "#### X27 - Number of open credit lines in the borrower's credit file; \n",
    "#### X28 - Number of derogatory public records;\n",
    "#### X29 - Total credit revolving balance\n",
    "- Keep all coulmns as they are, and there are no missing values"
   ]
  },
  {
   "cell_type": "code",
   "execution_count": 64,
   "metadata": {},
   "outputs": [
    {
     "data": {
      "text/plain": [
       "9.0     32556\n",
       "10.0    31141\n",
       "8.0     30697\n",
       "11.0    28596\n",
       "7.0     27612\n",
       "12.0    25425\n",
       "6.0     22648\n",
       "13.0    21702\n",
       "14.0    17883\n",
       "5.0     15593\n",
       "15.0    14747\n",
       "16.0    12003\n",
       "17.0     9713\n",
       "4.0      9018\n",
       "18.0     7834\n",
       "19.0     6126\n",
       "20.0     4656\n",
       "3.0      3966\n",
       "21.0     3681\n",
       "22.0     2864\n",
       "23.0     2179\n",
       "24.0     1751\n",
       "2.0      1333\n",
       "25.0     1263\n",
       "26.0      893\n",
       "27.0      697\n",
       "28.0      507\n",
       "29.0      404\n",
       "30.0      304\n",
       "31.0      203\n",
       "32.0      181\n",
       "33.0      143\n",
       "35.0      107\n",
       "34.0      107\n",
       "36.0       86\n",
       "1.0        78\n",
       "37.0       66\n",
       "38.0       47\n",
       "39.0       45\n",
       "41.0       24\n",
       "40.0       22\n",
       "42.0       19\n",
       "43.0       13\n",
       "45.0       11\n",
       "49.0        8\n",
       "44.0        8\n",
       "0.0         6\n",
       "46.0        4\n",
       "48.0        3\n",
       "51.0        3\n",
       "50.0        3\n",
       "58.0        2\n",
       "47.0        2\n",
       "61.0        1\n",
       "55.0        1\n",
       "76.0        1\n",
       "53.0        1\n",
       "62.0        1\n",
       "54.0        1\n",
       "Name: X27, dtype: int64"
      ]
     },
     "execution_count": 64,
     "metadata": {},
     "output_type": "execute_result"
    }
   ],
   "source": [
    "df['X27'].value_counts()"
   ]
  },
  {
   "cell_type": "code",
   "execution_count": 65,
   "metadata": {
    "scrolled": true
   },
   "outputs": [
    {
     "data": {
      "text/plain": [
       "0.0     296229\n",
       "1.0      37293\n",
       "2.0       3668\n",
       "3.0       1076\n",
       "4.0        346\n",
       "5.0        186\n",
       "6.0         90\n",
       "7.0         47\n",
       "8.0         19\n",
       "9.0         11\n",
       "10.0        10\n",
       "11.0         3\n",
       "13.0         2\n",
       "21.0         1\n",
       "18.0         1\n",
       "49.0         1\n",
       "54.0         1\n",
       "14.0         1\n",
       "34.0         1\n",
       "17.0         1\n",
       "40.0         1\n",
       "63.0         1\n",
       "Name: X28, dtype: int64"
      ]
     },
     "execution_count": 65,
     "metadata": {},
     "output_type": "execute_result"
    }
   ],
   "source": [
    "df['X28'].value_counts()"
   ]
  },
  {
   "cell_type": "code",
   "execution_count": 66,
   "metadata": {},
   "outputs": [],
   "source": [
    "#df['X28'] = df['X28'].apply(lambda x: 2 if x>2 else x)"
   ]
  },
  {
   "cell_type": "code",
   "execution_count": 67,
   "metadata": {
    "scrolled": false
   },
   "outputs": [
    {
     "data": {
      "text/plain": [
       "0.0         1676\n",
       "7429.0        34\n",
       "6223.0        32\n",
       "8476.0        32\n",
       "8708.0        32\n",
       "            ... \n",
       "49452.0        1\n",
       "170144.0       1\n",
       "166349.0       1\n",
       "56234.0        1\n",
       "43536.0        1\n",
       "Name: X29, Length: 52253, dtype: int64"
      ]
     },
     "execution_count": 67,
     "metadata": {},
     "output_type": "execute_result"
    }
   ],
   "source": [
    "df['X29'].value_counts()"
   ]
  },
  {
   "cell_type": "markdown",
   "metadata": {},
   "source": [
    "#### X30 - Revolving line utilization rate\n",
    "- Get rid of '%' in the str format\n",
    "- Use mean value to impute the NaN values"
   ]
  },
  {
   "cell_type": "code",
   "execution_count": 68,
   "metadata": {},
   "outputs": [],
   "source": [
    "df['X30'] = df[df['X30'].notnull()]['X30'].apply(lambda x: x.split('%')[0])"
   ]
  },
  {
   "cell_type": "code",
   "execution_count": 69,
   "metadata": {},
   "outputs": [],
   "source": [
    "df['X30'] = pd.to_numeric(df['X30'])/100"
   ]
  },
  {
   "cell_type": "code",
   "execution_count": 70,
   "metadata": {
    "scrolled": false
   },
   "outputs": [
    {
     "data": {
      "text/plain": [
       "0     0.521\n",
       "1     0.767\n",
       "2     0.663\n",
       "3     0.404\n",
       "4     0.256\n",
       "5     0.901\n",
       "6     0.732\n",
       "7     0.395\n",
       "8     0.510\n",
       "9     0.768\n",
       "10    0.511\n",
       "11    0.686\n",
       "12    0.511\n",
       "13    0.230\n",
       "14    0.710\n",
       "15    0.195\n",
       "16    0.182\n",
       "17    0.167\n",
       "18    0.048\n",
       "19    0.446\n",
       "Name: X30, dtype: float64"
      ]
     },
     "execution_count": 70,
     "metadata": {},
     "output_type": "execute_result"
    }
   ],
   "source": [
    "df['X30'].head(20)"
   ]
  },
  {
   "cell_type": "code",
   "execution_count": 71,
   "metadata": {},
   "outputs": [
    {
     "data": {
      "text/plain": [
       "0.5631415822177679"
      ]
     },
     "execution_count": 71,
     "metadata": {},
     "output_type": "execute_result"
    }
   ],
   "source": [
    "df['X30'].mean()"
   ]
  },
  {
   "cell_type": "code",
   "execution_count": 72,
   "metadata": {},
   "outputs": [
    {
     "data": {
      "text/plain": [
       "0.579"
      ]
     },
     "execution_count": 72,
     "metadata": {},
     "output_type": "execute_result"
    }
   ],
   "source": [
    "df['X30'].median()"
   ]
  },
  {
   "cell_type": "code",
   "execution_count": 73,
   "metadata": {},
   "outputs": [
    {
     "data": {
      "text/plain": [
       "224"
      ]
     },
     "execution_count": 73,
     "metadata": {},
     "output_type": "execute_result"
    }
   ],
   "source": [
    "df['X30'].isnull().sum()"
   ]
  },
  {
   "cell_type": "code",
   "execution_count": 74,
   "metadata": {},
   "outputs": [],
   "source": [
    "df['X30'] = df['X30'].fillna(df['X30'].mean())"
   ]
  },
  {
   "cell_type": "code",
   "execution_count": 75,
   "metadata": {
    "scrolled": true
   },
   "outputs": [
    {
     "data": {
      "text/plain": [
       "0"
      ]
     },
     "execution_count": 75,
     "metadata": {},
     "output_type": "execute_result"
    }
   ],
   "source": [
    "df['X30'].isnull().sum()"
   ]
  },
  {
   "cell_type": "markdown",
   "metadata": {},
   "source": [
    "#### X31 - The total number of credit lines currently in the borrower's credit file\n",
    "- No missing values; Keep as it is"
   ]
  },
  {
   "cell_type": "code",
   "execution_count": 76,
   "metadata": {
    "scrolled": true
   },
   "outputs": [
    {
     "data": {
      "text/plain": [
       "0"
      ]
     },
     "execution_count": 76,
     "metadata": {},
     "output_type": "execute_result"
    }
   ],
   "source": [
    "df['X31'].isnull().sum()"
   ]
  },
  {
   "cell_type": "markdown",
   "metadata": {},
   "source": [
    "#### X32 -The inital listing status of the loan\n",
    "- Convert 'f' to 1 and 'w' to 0"
   ]
  },
  {
   "cell_type": "code",
   "execution_count": 77,
   "metadata": {},
   "outputs": [
    {
     "data": {
      "text/plain": [
       "f    232600\n",
       "w    106389\n",
       "Name: X32, dtype: int64"
      ]
     },
     "execution_count": 77,
     "metadata": {},
     "output_type": "execute_result"
    }
   ],
   "source": [
    "df['X32'].value_counts()"
   ]
  },
  {
   "cell_type": "code",
   "execution_count": 78,
   "metadata": {},
   "outputs": [],
   "source": [
    "df.loc[df['X32']=='f','X32']=1"
   ]
  },
  {
   "cell_type": "code",
   "execution_count": 79,
   "metadata": {},
   "outputs": [],
   "source": [
    "df.loc[df['X32']=='w','X32']=0"
   ]
  },
  {
   "cell_type": "code",
   "execution_count": 80,
   "metadata": {},
   "outputs": [
    {
     "data": {
      "text/plain": [
       "1    232600\n",
       "0    106389\n",
       "Name: X32, dtype: int64"
      ]
     },
     "execution_count": 80,
     "metadata": {},
     "output_type": "execute_result"
    }
   ],
   "source": [
    "df['X32'].value_counts()"
   ]
  },
  {
   "cell_type": "code",
   "execution_count": 81,
   "metadata": {},
   "outputs": [],
   "source": [
    "df['X32'] = pd.to_numeric(df['X32'])"
   ]
  },
  {
   "cell_type": "code",
   "execution_count": 82,
   "metadata": {},
   "outputs": [
    {
     "name": "stdout",
     "output_type": "stream",
     "text": [
      "<class 'pandas.core.frame.DataFrame'>\n",
      "Int64Index: 338989 entries, 0 to 399999\n",
      "Data columns (total 24 columns):\n",
      " #   Column                        Non-Null Count   Dtype  \n",
      "---  ------                        --------------   -----  \n",
      " 0   X1                            338989 non-null  float64\n",
      " 1   X5                            338989 non-null  int64  \n",
      " 2   X6                            338989 non-null  int64  \n",
      " 3   X7                            338989 non-null  int64  \n",
      " 4   X9                            338989 non-null  int64  \n",
      " 5   X11                           338989 non-null  float64\n",
      " 6   X13                           338989 non-null  float64\n",
      " 7   X17                           338989 non-null  int64  \n",
      " 8   X21                           338989 non-null  float64\n",
      " 9   X22                           338989 non-null  float64\n",
      " 10  X24                           338989 non-null  float64\n",
      " 11  X27                           338989 non-null  float64\n",
      " 12  X28                           338989 non-null  float64\n",
      " 13  X29                           338989 non-null  float64\n",
      " 14  X30                           338989 non-null  float64\n",
      " 15  X31                           338989 non-null  float64\n",
      " 16  X32                           338989 non-null  int64  \n",
      " 17  X12_MORTGAGE                  338989 non-null  uint8  \n",
      " 18  X12_OTHER                     338989 non-null  uint8  \n",
      " 19  X12_OWN                       338989 non-null  uint8  \n",
      " 20  X12_RENT                      338989 non-null  uint8  \n",
      " 21  X14_VERIFIED - income         338989 non-null  uint8  \n",
      " 22  X14_VERIFIED - income source  338989 non-null  uint8  \n",
      " 23  X14_not verified              338989 non-null  uint8  \n",
      "dtypes: float64(11), int64(6), uint8(7)\n",
      "memory usage: 48.8 MB\n"
     ]
    }
   ],
   "source": [
    "df.info()"
   ]
  },
  {
   "cell_type": "markdown",
   "metadata": {},
   "source": [
    "#### Final Check:\n",
    "- All columns are completely full; no missing values for any column\n",
    "- All columns have numerical datatype; no categorical data type existing"
   ]
  },
  {
   "cell_type": "code",
   "execution_count": 83,
   "metadata": {
    "scrolled": true
   },
   "outputs": [
    {
     "data": {
      "text/plain": [
       "X1                              0\n",
       "X5                              0\n",
       "X6                              0\n",
       "X7                              0\n",
       "X9                              0\n",
       "X11                             0\n",
       "X13                             0\n",
       "X17                             0\n",
       "X21                             0\n",
       "X22                             0\n",
       "X24                             0\n",
       "X27                             0\n",
       "X28                             0\n",
       "X29                             0\n",
       "X30                             0\n",
       "X31                             0\n",
       "X32                             0\n",
       "X12_MORTGAGE                    0\n",
       "X12_OTHER                       0\n",
       "X12_OWN                         0\n",
       "X12_RENT                        0\n",
       "X14_VERIFIED - income           0\n",
       "X14_VERIFIED - income source    0\n",
       "X14_not verified                0\n",
       "dtype: int64"
      ]
     },
     "execution_count": 83,
     "metadata": {},
     "output_type": "execute_result"
    }
   ],
   "source": [
    "df.isnull().sum()"
   ]
  },
  {
   "cell_type": "code",
   "execution_count": 84,
   "metadata": {
    "scrolled": false
   },
   "outputs": [
    {
     "name": "stdout",
     "output_type": "stream",
     "text": [
      "<class 'pandas.core.frame.DataFrame'>\n",
      "Int64Index: 338989 entries, 0 to 399999\n",
      "Data columns (total 24 columns):\n",
      " #   Column                        Non-Null Count   Dtype  \n",
      "---  ------                        --------------   -----  \n",
      " 0   X1                            338989 non-null  float64\n",
      " 1   X5                            338989 non-null  int64  \n",
      " 2   X6                            338989 non-null  int64  \n",
      " 3   X7                            338989 non-null  int64  \n",
      " 4   X9                            338989 non-null  int64  \n",
      " 5   X11                           338989 non-null  float64\n",
      " 6   X13                           338989 non-null  float64\n",
      " 7   X17                           338989 non-null  int64  \n",
      " 8   X21                           338989 non-null  float64\n",
      " 9   X22                           338989 non-null  float64\n",
      " 10  X24                           338989 non-null  float64\n",
      " 11  X27                           338989 non-null  float64\n",
      " 12  X28                           338989 non-null  float64\n",
      " 13  X29                           338989 non-null  float64\n",
      " 14  X30                           338989 non-null  float64\n",
      " 15  X31                           338989 non-null  float64\n",
      " 16  X32                           338989 non-null  int64  \n",
      " 17  X12_MORTGAGE                  338989 non-null  uint8  \n",
      " 18  X12_OTHER                     338989 non-null  uint8  \n",
      " 19  X12_OWN                       338989 non-null  uint8  \n",
      " 20  X12_RENT                      338989 non-null  uint8  \n",
      " 21  X14_VERIFIED - income         338989 non-null  uint8  \n",
      " 22  X14_VERIFIED - income source  338989 non-null  uint8  \n",
      " 23  X14_not verified              338989 non-null  uint8  \n",
      "dtypes: float64(11), int64(6), uint8(7)\n",
      "memory usage: 48.8 MB\n"
     ]
    }
   ],
   "source": [
    "df.info()"
   ]
  },
  {
   "cell_type": "markdown",
   "metadata": {},
   "source": [
    "### Step 2: Model Selection"
   ]
  },
  {
   "cell_type": "code",
   "execution_count": 85,
   "metadata": {},
   "outputs": [],
   "source": [
    "from sklearn.ensemble import RandomForestRegressor\n",
    "from sklearn.linear_model import LinearRegression\n",
    "from sklearn.tree import DecisionTreeRegressor\n",
    "from sklearn.svm import SVR\n",
    "from sklearn.neighbors import KNeighborsRegressor\n",
    "\n",
    "\n",
    "from sklearn.model_selection import train_test_split\n",
    "from sklearn.metrics import mean_squared_error as MSE\n",
    "from sklearn.metrics import accuracy_score\n",
    "from sklearn.model_selection import cross_val_score\n",
    "\n",
    "Seed = 22\n",
    "\n",
    "x = df.drop('X1',axis=1)\n",
    "y = df['X1']\n",
    "\n",
    "std_scaler = preprocessing.StandardScaler()\n",
    "\n",
    "x_scaled = std_scaler.fit_transform(x)\n",
    "\n",
    "X_train, X_test, y_train, y_test = train_test_split(x_scaled, y, test_size=0.2, random_state=Seed)"
   ]
  },
  {
   "cell_type": "markdown",
   "metadata": {},
   "source": [
    "#### 1. Linear Regression\n",
    "- Start with the base model and then use CV to see if there is potential of overfitting"
   ]
  },
  {
   "cell_type": "code",
   "execution_count": 86,
   "metadata": {},
   "outputs": [
    {
     "name": "stdout",
     "output_type": "stream",
     "text": [
      "The Test set RMSE for Linear Regression is 0.020\n"
     ]
    }
   ],
   "source": [
    "LR = LinearRegression()\n",
    "\n",
    "LR.fit(X_train,y_train)\n",
    "\n",
    "y_pred = LR.predict(X_test)\n",
    "\n",
    "LR_mse = MSE(y_test,y_pred)\n",
    "\n",
    "LR_rmse = LR_mse **(1/2)\n",
    "\n",
    "print('The Test set RMSE for Linear Regression is {:.3f}'.format(LR_rmse))"
   ]
  },
  {
   "cell_type": "code",
   "execution_count": 87,
   "metadata": {
    "scrolled": true
   },
   "outputs": [
    {
     "name": "stdout",
     "output_type": "stream",
     "text": [
      "The CV RMSE for Linear Regression is 0.020\n"
     ]
    }
   ],
   "source": [
    "LR_MSE_CV_scores = - cross_val_score(LinearRegression(), X_train, y_train, cv=10, \n",
    "                                  scoring='neg_mean_squared_error', \n",
    "                                  n_jobs=-1) \n",
    "\n",
    "CV_LR_rmse = (LR_MSE_CV_scores.mean())**(1/2)\n",
    "\n",
    "print('The CV RMSE for Linear Regression is {:.3f}'.format(CV_LR_rmse))"
   ]
  },
  {
   "cell_type": "markdown",
   "metadata": {},
   "source": [
    "#### We can see that the base model RMSE is the same as the CV RMSE, so there is no overfitting in the Training set"
   ]
  },
  {
   "cell_type": "markdown",
   "metadata": {},
   "source": [
    "#### 2. Decision Tree\n",
    "- Start with base model and later compare it with CV"
   ]
  },
  {
   "cell_type": "code",
   "execution_count": 88,
   "metadata": {},
   "outputs": [],
   "source": [
    "DT = DecisionTreeRegressor(max_depth=4,min_samples_leaf=0.1,random_state=Seed)"
   ]
  },
  {
   "cell_type": "code",
   "execution_count": 89,
   "metadata": {},
   "outputs": [
    {
     "name": "stdout",
     "output_type": "stream",
     "text": [
      "The Test set RMSE for Decision Tree Regression is 0.022\n"
     ]
    }
   ],
   "source": [
    "DT.fit(X_train,y_train)\n",
    "\n",
    "y_pred = DT.predict(X_test)\n",
    "\n",
    "DT_mse = MSE(y_test,y_pred)\n",
    "\n",
    "DT_rmse = DT_mse**(1/2)\n",
    "\n",
    "print('The Test set RMSE for Decision Tree Regression is {:.3f}'.format(DT_rmse))"
   ]
  },
  {
   "cell_type": "code",
   "execution_count": 90,
   "metadata": {},
   "outputs": [
    {
     "name": "stdout",
     "output_type": "stream",
     "text": [
      "The CV RMSE for Decision Tree is 0.022\n"
     ]
    }
   ],
   "source": [
    "DT = DecisionTreeRegressor(max_depth=4,min_samples_leaf=0.1,random_state=Seed)\n",
    "\n",
    "DT_MSE_CV_scores = - cross_val_score(DT, X_train, y_train, cv=10, \n",
    "                                  scoring='neg_mean_squared_error', \n",
    "                                  n_jobs=-1) \n",
    "\n",
    "CV_DT_rmse = (DT_MSE_CV_scores.mean())**(1/2)\n",
    "\n",
    "print('The CV RMSE for Decision Tree is {:.3f}'.format(CV_DT_rmse))"
   ]
  },
  {
   "cell_type": "markdown",
   "metadata": {},
   "source": [
    "#### Notice that CV RMSE and Test RMSE are very close. So we don't need to worry about the potential of overfitting"
   ]
  },
  {
   "cell_type": "markdown",
   "metadata": {},
   "source": [
    "#### 3. Random Forrest\n",
    "- Just use the base model because Random Forrest already does a very good job to prevent overfitting"
   ]
  },
  {
   "cell_type": "code",
   "execution_count": 91,
   "metadata": {},
   "outputs": [],
   "source": [
    "RF = RandomForestRegressor(max_depth=4,min_samples_leaf=0.1,n_estimators = 50,random_state=Seed)"
   ]
  },
  {
   "cell_type": "code",
   "execution_count": 92,
   "metadata": {},
   "outputs": [
    {
     "name": "stdout",
     "output_type": "stream",
     "text": [
      "The Test set RMSE for Random Forrest Regression is 0.025\n",
      "The Train set RMSE for Random Forrest Regression is 0.025\n"
     ]
    }
   ],
   "source": [
    "RF.fit(X_train,y_train)\n",
    "\n",
    "y_pred = RF.predict(X_test)\n",
    "\n",
    "y_pred_train = RF.predict(X_train)\n",
    "\n",
    "RF_mse = MSE(y_test,y_pred)\n",
    "\n",
    "RF_rmse = RF_mse**(1/2)\n",
    "\n",
    "RF_Train_mse = MSE(y_train, y_pred_train)\n",
    "\n",
    "RF_Train_rmse = RF_Train_mse**(1/2)\n",
    "\n",
    "print('The Test set RMSE for Random Forrest Regression is {:.3f}'.format(RF_rmse))\n",
    "print('The Train set RMSE for Random Forrest Regression is {:.3f}'.format(RF_Train_rmse))"
   ]
  },
  {
   "cell_type": "code",
   "execution_count": 93,
   "metadata": {
    "scrolled": true
   },
   "outputs": [
    {
     "data": {
      "image/png": "[encoded data removed]",
      "text/plain": [
       "<Figure size 432x288 with 1 Axes>"
      ]
     },
     "metadata": {
      "needs_background": "light"
     },
     "output_type": "display_data"
    }
   ],
   "source": [
    "importances_rf = pd.Series(RF.feature_importances_,index = x.columns)\n",
    "\n",
    "sorted_importances_rf = importances_rf.sort_values()\n",
    "\n",
    "sorted_importances_rf.plot(kind='barh', color='blue')\n",
    "plt.show()"
   ]
  },
  {
   "cell_type": "code",
   "execution_count": 94,
   "metadata": {},
   "outputs": [],
   "source": [
    "#from sklearn.model_selection import GridSearchCV\n",
    "#param_grid = {'max_depth':np.arange(1,10),'min_samples_leaf':[0.05,0.1,0.15,0.2,0.25,0.3]}\n",
    "#RF = RandomForestRegressor()\n",
    "#RF_cv = GridSearchCV(RF,param_grid,cv=5)\n",
    "#RF_cv.fit(x,y)\n",
    "#RF_cv.best_params_"
   ]
  },
  {
   "cell_type": "markdown",
   "metadata": {},
   "source": [
    "#### 4. Support Vector Regression"
   ]
  },
  {
   "cell_type": "code",
   "execution_count": 95,
   "metadata": {},
   "outputs": [],
   "source": [
    "SV = SVR()"
   ]
  },
  {
   "cell_type": "code",
   "execution_count": 96,
   "metadata": {},
   "outputs": [
    {
     "name": "stdout",
     "output_type": "stream",
     "text": [
      "The Test set RMSE for Support Vector Regression is 0.046\n"
     ]
    }
   ],
   "source": [
    "SV.fit(X_train,y_train)\n",
    "\n",
    "y_pred = SV.predict(X_test)\n",
    "\n",
    "SV_mse = MSE(y_test,y_pred)\n",
    "\n",
    "SV_rmse = SV_mse**(1/2)\n",
    "\n",
    "print('The Test set RMSE for Support Vector Regression is {:.3f}'.format(SV_rmse))"
   ]
  },
  {
   "cell_type": "markdown",
   "metadata": {},
   "source": [
    "#### 5. K-Nearest Neighbor Regression"
   ]
  },
  {
   "cell_type": "code",
   "execution_count": 97,
   "metadata": {},
   "outputs": [],
   "source": [
    "KNN = KNeighborsRegressor(n_neighbors=5)"
   ]
  },
  {
   "cell_type": "code",
   "execution_count": 98,
   "metadata": {},
   "outputs": [
    {
     "name": "stdout",
     "output_type": "stream",
     "text": [
      "The Test set RMSE for K-Nearnest Neighbor Regression is 0.022\n"
     ]
    }
   ],
   "source": [
    "KNN.fit(X_train,y_train)\n",
    "\n",
    "y_pred = KNN.predict(X_test)\n",
    "\n",
    "KNN_mse = MSE(y_test,y_pred)\n",
    "\n",
    "KNN_rmse = KNN_mse**(1/2)\n",
    "\n",
    "print('The Test set RMSE for K-Nearnest Neighbor Regression is {:.3f}'.format(KNN_rmse))"
   ]
  },
  {
   "cell_type": "markdown",
   "metadata": {},
   "source": [
    "### Conclusion: After comparing rmse from all 5 models, we can see that Linear Regression gives the best result, which is 0.020"
   ]
  },
  {
   "cell_type": "markdown",
   "metadata": {},
   "source": [
    "### Step 3: Holdout Data Loading and Cleaning (ready for final prediction)"
   ]
  },
  {
   "cell_type": "code",
   "execution_count": 99,
   "metadata": {},
   "outputs": [],
   "source": [
    "df_holdout = pd.read_csv('/Users/Xingkang/Desktop/UChicago/Quarter 2/MSCA 31008 Data Mining Principles/Assignment_3/Loan_Prediction/Holdout for Testing.csv')"
   ]
  },
  {
   "cell_type": "code",
   "execution_count": 100,
   "metadata": {
    "scrolled": true
   },
   "outputs": [
    {
     "name": "stdout",
     "output_type": "stream",
     "text": [
      "<class 'pandas.core.frame.DataFrame'>\n",
      "RangeIndex: 80000 entries, 0 to 79999\n",
      "Data columns (total 32 columns):\n",
      " #   Column  Non-Null Count  Dtype  \n",
      "---  ------  --------------  -----  \n",
      " 0   X1      0 non-null      float64\n",
      " 1   X2      80000 non-null  int64  \n",
      " 2   X3      80000 non-null  int64  \n",
      " 3   X4      80000 non-null  object \n",
      " 4   X5      80000 non-null  object \n",
      " 5   X6      80000 non-null  object \n",
      " 6   X7      80000 non-null  object \n",
      " 7   X8      80000 non-null  object \n",
      " 8   X9      80000 non-null  object \n",
      " 9   X10     75606 non-null  object \n",
      " 10  X11     75618 non-null  object \n",
      " 11  X12     80000 non-null  object \n",
      " 12  X13     80000 non-null  float64\n",
      " 13  X14     80000 non-null  object \n",
      " 14  X15     80000 non-null  object \n",
      " 15  X16     15 non-null     object \n",
      " 16  X17     80000 non-null  object \n",
      " 17  X18     80000 non-null  object \n",
      " 18  X19     80000 non-null  object \n",
      " 19  X20     80000 non-null  object \n",
      " 20  X21     80000 non-null  float64\n",
      " 21  X22     80000 non-null  int64  \n",
      " 22  X23     80000 non-null  object \n",
      " 23  X24     80000 non-null  int64  \n",
      " 24  X25     41296 non-null  float64\n",
      " 25  X26     13839 non-null  float64\n",
      " 26  X27     80000 non-null  int64  \n",
      " 27  X28     80000 non-null  int64  \n",
      " 28  X29     80000 non-null  int64  \n",
      " 29  X30     79970 non-null  object \n",
      " 30  X31     80000 non-null  int64  \n",
      " 31  X32     80000 non-null  object \n",
      "dtypes: float64(5), int64(8), object(19)\n",
      "memory usage: 19.5+ MB\n"
     ]
    }
   ],
   "source": [
    "df_holdout.info()"
   ]
  },
  {
   "cell_type": "markdown",
   "metadata": {},
   "source": [
    "#### We will clean and reconstruct the Holdout data set as what we did above"
   ]
  },
  {
   "cell_type": "code",
   "execution_count": 101,
   "metadata": {},
   "outputs": [],
   "source": [
    "df_holdout.drop(['X1','X2','X3','X4'],axis=1,inplace=True)"
   ]
  },
  {
   "cell_type": "code",
   "execution_count": 102,
   "metadata": {},
   "outputs": [],
   "source": [
    "df_holdout['X5'] = df_holdout['X5'].apply(lambda x: x.split('$')[1])\n",
    "df_holdout['X5'] = df_holdout['X5'].str.replace(',','')\n",
    "df_holdout['X5'] = pd.to_numeric(df_holdout['X5'])"
   ]
  },
  {
   "cell_type": "code",
   "execution_count": 103,
   "metadata": {},
   "outputs": [],
   "source": [
    "df_holdout['X6'] = df_holdout['X6'].apply(lambda x: x.split('$')[1])\n",
    "df_holdout['X6'] = df_holdout['X6'].str.replace(',','')\n",
    "df_holdout['X6'] = pd.to_numeric(df_holdout['X6'])"
   ]
  },
  {
   "cell_type": "code",
   "execution_count": 104,
   "metadata": {},
   "outputs": [],
   "source": [
    "df_holdout['X7'] = df_holdout['X7'].apply(lambda x: 1 if x==' 36 months' else 0)"
   ]
  },
  {
   "cell_type": "code",
   "execution_count": 105,
   "metadata": {},
   "outputs": [],
   "source": [
    "df_holdout.drop('X8',axis=1,inplace=True)"
   ]
  },
  {
   "cell_type": "code",
   "execution_count": 106,
   "metadata": {},
   "outputs": [],
   "source": [
    "df_holdout['X9'] = le9.transform(df_holdout['X9'])"
   ]
  },
  {
   "cell_type": "code",
   "execution_count": 107,
   "metadata": {},
   "outputs": [],
   "source": [
    "df_holdout.drop('X10',axis=1,inplace=True)"
   ]
  },
  {
   "cell_type": "code",
   "execution_count": 108,
   "metadata": {},
   "outputs": [
    {
     "data": {
      "text/plain": [
       "10+ years    26723\n",
       "2 years       7220\n",
       "< 1 year      6459\n",
       "3 years       6441\n",
       "1 year        5094\n",
       "4 years       4603\n",
       "5 years       4583\n",
       "7 years       3978\n",
       "8 years       3970\n",
       "6 years       3385\n",
       "9 years       3162\n",
       "Name: X11, dtype: int64"
      ]
     },
     "execution_count": 108,
     "metadata": {},
     "output_type": "execute_result"
    }
   ],
   "source": [
    "df_holdout['X11'].value_counts()"
   ]
  },
  {
   "cell_type": "code",
   "execution_count": 109,
   "metadata": {},
   "outputs": [],
   "source": [
    "df_holdout.loc[df_holdout['X11']=='10+ years','X11'] = 10\n",
    "df_holdout.loc[df_holdout['X11']=='1 year','X11'] = 1\n",
    "df_holdout.loc[df_holdout['X11']=='2 years','X11'] = 2\n",
    "df_holdout.loc[df_holdout['X11']=='3 years','X11'] = 3\n",
    "df_holdout.loc[df_holdout['X11']=='4 years','X11'] = 4\n",
    "df_holdout.loc[df_holdout['X11']=='5 years','X11'] = 5\n",
    "df_holdout.loc[df_holdout['X11']=='6 years','X11'] = 6\n",
    "df_holdout.loc[df_holdout['X11']=='7 years','X11'] = 7\n",
    "df_holdout.loc[df_holdout['X11']=='8 years','X11'] = 8\n",
    "df_holdout.loc[df_holdout['X11']=='9 years','X11'] = 9\n",
    "df_holdout.loc[df_holdout['X11']=='< 1 year','X11'] = 0"
   ]
  },
  {
   "cell_type": "code",
   "execution_count": 110,
   "metadata": {},
   "outputs": [],
   "source": [
    "df_holdout['X11']= pd.to_numeric(df_holdout['X11'])\n",
    "\n",
    "df_holdout['X11'].fillna(df_holdout['X11'].mode()[0],inplace=True)"
   ]
  },
  {
   "cell_type": "code",
   "execution_count": 111,
   "metadata": {},
   "outputs": [
    {
     "data": {
      "text/plain": [
       "MORTGAGE    38994\n",
       "RENT        32778\n",
       "OWN          8228\n",
       "Name: X12, dtype: int64"
      ]
     },
     "execution_count": 111,
     "metadata": {},
     "output_type": "execute_result"
    }
   ],
   "source": [
    "df_holdout['X12'].value_counts()"
   ]
  },
  {
   "cell_type": "code",
   "execution_count": 112,
   "metadata": {},
   "outputs": [],
   "source": [
    "X12 = pd.get_dummies(df_holdout['X12'],prefix='X12')"
   ]
  },
  {
   "cell_type": "code",
   "execution_count": 113,
   "metadata": {},
   "outputs": [
    {
     "name": "stdout",
     "output_type": "stream",
     "text": [
      "<class 'pandas.core.frame.DataFrame'>\n",
      "RangeIndex: 80000 entries, 0 to 79999\n",
      "Data columns (total 26 columns):\n",
      " #   Column  Non-Null Count  Dtype  \n",
      "---  ------  --------------  -----  \n",
      " 0   X5      80000 non-null  int64  \n",
      " 1   X6      80000 non-null  int64  \n",
      " 2   X7      80000 non-null  int64  \n",
      " 3   X9      80000 non-null  int64  \n",
      " 4   X11     80000 non-null  float64\n",
      " 5   X12     80000 non-null  object \n",
      " 6   X13     80000 non-null  float64\n",
      " 7   X14     80000 non-null  object \n",
      " 8   X15     80000 non-null  object \n",
      " 9   X16     15 non-null     object \n",
      " 10  X17     80000 non-null  object \n",
      " 11  X18     80000 non-null  object \n",
      " 12  X19     80000 non-null  object \n",
      " 13  X20     80000 non-null  object \n",
      " 14  X21     80000 non-null  float64\n",
      " 15  X22     80000 non-null  int64  \n",
      " 16  X23     80000 non-null  object \n",
      " 17  X24     80000 non-null  int64  \n",
      " 18  X25     41296 non-null  float64\n",
      " 19  X26     13839 non-null  float64\n",
      " 20  X27     80000 non-null  int64  \n",
      " 21  X28     80000 non-null  int64  \n",
      " 22  X29     80000 non-null  int64  \n",
      " 23  X30     79970 non-null  object \n",
      " 24  X31     80000 non-null  int64  \n",
      " 25  X32     80000 non-null  object \n",
      "dtypes: float64(5), int64(10), object(11)\n",
      "memory usage: 15.9+ MB\n"
     ]
    }
   ],
   "source": [
    "df_holdout.info()"
   ]
  },
  {
   "cell_type": "code",
   "execution_count": 114,
   "metadata": {},
   "outputs": [],
   "source": [
    "df_holdout.drop('X12',axis=1,inplace=True)"
   ]
  },
  {
   "cell_type": "code",
   "execution_count": 115,
   "metadata": {},
   "outputs": [],
   "source": [
    "df_holdout['X12_OTHER']=0"
   ]
  },
  {
   "cell_type": "code",
   "execution_count": 116,
   "metadata": {},
   "outputs": [],
   "source": [
    "df_holdout = pd.concat([df_holdout,X12],axis=1)"
   ]
  },
  {
   "cell_type": "code",
   "execution_count": 117,
   "metadata": {},
   "outputs": [],
   "source": [
    "X14 = pd.get_dummies(df_holdout['X14'],prefix='X14')"
   ]
  },
  {
   "cell_type": "code",
   "execution_count": 118,
   "metadata": {},
   "outputs": [],
   "source": [
    "df_holdout = pd.concat([df_holdout,X14],axis=1)"
   ]
  },
  {
   "cell_type": "code",
   "execution_count": 119,
   "metadata": {},
   "outputs": [],
   "source": [
    "df_holdout.drop('X14',axis=1,inplace=True)"
   ]
  },
  {
   "cell_type": "code",
   "execution_count": 120,
   "metadata": {},
   "outputs": [],
   "source": [
    "df_holdout.drop('X15',axis=1,inplace=True)\n",
    "df_holdout.drop('X16',axis=1,inplace=True)"
   ]
  },
  {
   "cell_type": "code",
   "execution_count": 121,
   "metadata": {},
   "outputs": [
    {
     "data": {
      "text/plain": [
       "debt_consolidation    49884\n",
       "credit_card           18660\n",
       "home_improvement       3920\n",
       "other                  3383\n",
       "major_purchase         1232\n",
       "small_business          668\n",
       "medical                 619\n",
       "car                     573\n",
       "moving                  393\n",
       "vacation                359\n",
       "house                   266\n",
       "renewable_energy         42\n",
       "wedding                   1\n",
       "Name: X17, dtype: int64"
      ]
     },
     "execution_count": 121,
     "metadata": {},
     "output_type": "execute_result"
    }
   ],
   "source": [
    "df_holdout['X17'].value_counts()"
   ]
  },
  {
   "cell_type": "code",
   "execution_count": 122,
   "metadata": {},
   "outputs": [],
   "source": [
    "df_holdout['X17'] = le17.transform(df_holdout['X17'])"
   ]
  },
  {
   "cell_type": "code",
   "execution_count": 123,
   "metadata": {},
   "outputs": [],
   "source": [
    "df_holdout.drop('X18',axis=1,inplace=True)\n",
    "df_holdout.drop('X19',axis=1,inplace=True)\n",
    "df_holdout.drop('X20',axis=1,inplace=True)"
   ]
  },
  {
   "cell_type": "code",
   "execution_count": 124,
   "metadata": {},
   "outputs": [],
   "source": [
    "df_holdout.drop('X23',axis=1,inplace=True)"
   ]
  },
  {
   "cell_type": "code",
   "execution_count": 125,
   "metadata": {},
   "outputs": [],
   "source": [
    "df_holdout.drop('X25',axis=1,inplace=True)\n",
    "df_holdout.drop('X26',axis=1,inplace=True)"
   ]
  },
  {
   "cell_type": "code",
   "execution_count": 126,
   "metadata": {},
   "outputs": [],
   "source": [
    "df_holdout['X30'] = df_holdout[df_holdout['X30'].notnull()]['X30'].apply(lambda x: x.split('%')[0])\n",
    "\n",
    "df_holdout['X30'] = pd.to_numeric(df_holdout['X30'])/100\n",
    "\n",
    "df_holdout['X30'] = df_holdout['X30'].fillna(df_holdout['X30'].mean())"
   ]
  },
  {
   "cell_type": "code",
   "execution_count": 127,
   "metadata": {},
   "outputs": [],
   "source": [
    "df_holdout['X32']=df_holdout['X32'].apply(lambda x:1 if x=='f' else 0)"
   ]
  },
  {
   "cell_type": "markdown",
   "metadata": {},
   "source": [
    "#### Reorder the order of the holdout dataset as it is of the modeling dataset"
   ]
  },
  {
   "cell_type": "code",
   "execution_count": 128,
   "metadata": {},
   "outputs": [],
   "source": [
    "df_holdout = df_holdout[x.columns]"
   ]
  },
  {
   "cell_type": "code",
   "execution_count": 129,
   "metadata": {
    "scrolled": true
   },
   "outputs": [
    {
     "name": "stdout",
     "output_type": "stream",
     "text": [
      "<class 'pandas.core.frame.DataFrame'>\n",
      "RangeIndex: 80000 entries, 0 to 79999\n",
      "Data columns (total 23 columns):\n",
      " #   Column                        Non-Null Count  Dtype  \n",
      "---  ------                        --------------  -----  \n",
      " 0   X5                            80000 non-null  int64  \n",
      " 1   X6                            80000 non-null  int64  \n",
      " 2   X7                            80000 non-null  int64  \n",
      " 3   X9                            80000 non-null  int64  \n",
      " 4   X11                           80000 non-null  float64\n",
      " 5   X13                           80000 non-null  float64\n",
      " 6   X17                           80000 non-null  int64  \n",
      " 7   X21                           80000 non-null  float64\n",
      " 8   X22                           80000 non-null  int64  \n",
      " 9   X24                           80000 non-null  int64  \n",
      " 10  X27                           80000 non-null  int64  \n",
      " 11  X28                           80000 non-null  int64  \n",
      " 12  X29                           80000 non-null  int64  \n",
      " 13  X30                           80000 non-null  float64\n",
      " 14  X31                           80000 non-null  int64  \n",
      " 15  X32                           80000 non-null  int64  \n",
      " 16  X12_MORTGAGE                  80000 non-null  uint8  \n",
      " 17  X12_OTHER                     80000 non-null  int64  \n",
      " 18  X12_OWN                       80000 non-null  uint8  \n",
      " 19  X12_RENT                      80000 non-null  uint8  \n",
      " 20  X14_VERIFIED - income         80000 non-null  uint8  \n",
      " 21  X14_VERIFIED - income source  80000 non-null  uint8  \n",
      " 22  X14_not verified              80000 non-null  uint8  \n",
      "dtypes: float64(4), int64(13), uint8(6)\n",
      "memory usage: 10.8 MB\n"
     ]
    }
   ],
   "source": [
    "df_holdout.info()"
   ]
  },
  {
   "cell_type": "markdown",
   "metadata": {},
   "source": [
    "#### Scale the holdout dataset using the same way as we did for the modeling dataset"
   ]
  },
  {
   "cell_type": "code",
   "execution_count": 130,
   "metadata": {},
   "outputs": [],
   "source": [
    "df_holdout_scaled = std_scaler.transform(df_holdout)"
   ]
  },
  {
   "cell_type": "markdown",
   "metadata": {},
   "source": [
    "### Step 4: Final Prediction for Holdout Data\n",
    "- We use Logistic Regression since it gave us the best RMSE among all the models we used\n",
    "- We use the model that already fit the Modeling dataset and directly apply it to the holdout dataset"
   ]
  },
  {
   "cell_type": "code",
   "execution_count": 131,
   "metadata": {},
   "outputs": [],
   "source": [
    "hold_out_pred = LR.predict(df_holdout_scaled)"
   ]
  },
  {
   "cell_type": "code",
   "execution_count": 132,
   "metadata": {},
   "outputs": [],
   "source": [
    "hold_out_pred = pd.DataFrame(hold_out_pred,columns=['Predicted Loan Rate'])"
   ]
  },
  {
   "cell_type": "code",
   "execution_count": 133,
   "metadata": {
    "scrolled": true
   },
   "outputs": [
    {
     "data": {
      "text/html": [
       "<div>\n",
       "<style scoped>\n",
       "    .dataframe tbody tr th:only-of-type {\n",
       "        vertical-align: middle;\n",
       "    }\n",
       "\n",
       "    .dataframe tbody tr th {\n",
       "        vertical-align: top;\n",
       "    }\n",
       "\n",
       "    .dataframe thead th {\n",
       "        text-align: right;\n",
       "    }\n",
       "</style>\n",
       "<table border=\"1\" class=\"dataframe\">\n",
       "  <thead>\n",
       "    <tr style=\"text-align: right;\">\n",
       "      <th></th>\n",
       "      <th>Predicted Loan Rate</th>\n",
       "    </tr>\n",
       "  </thead>\n",
       "  <tbody>\n",
       "    <tr>\n",
       "      <th>0</th>\n",
       "      <td>0.160241</td>\n",
       "    </tr>\n",
       "    <tr>\n",
       "      <th>1</th>\n",
       "      <td>0.074915</td>\n",
       "    </tr>\n",
       "    <tr>\n",
       "      <th>2</th>\n",
       "      <td>0.136737</td>\n",
       "    </tr>\n",
       "    <tr>\n",
       "      <th>3</th>\n",
       "      <td>0.175506</td>\n",
       "    </tr>\n",
       "    <tr>\n",
       "      <th>4</th>\n",
       "      <td>0.116593</td>\n",
       "    </tr>\n",
       "    <tr>\n",
       "      <th>...</th>\n",
       "      <td>...</td>\n",
       "    </tr>\n",
       "    <tr>\n",
       "      <th>79995</th>\n",
       "      <td>0.079942</td>\n",
       "    </tr>\n",
       "    <tr>\n",
       "      <th>79996</th>\n",
       "      <td>0.199864</td>\n",
       "    </tr>\n",
       "    <tr>\n",
       "      <th>79997</th>\n",
       "      <td>0.163958</td>\n",
       "    </tr>\n",
       "    <tr>\n",
       "      <th>79998</th>\n",
       "      <td>0.138163</td>\n",
       "    </tr>\n",
       "    <tr>\n",
       "      <th>79999</th>\n",
       "      <td>0.128020</td>\n",
       "    </tr>\n",
       "  </tbody>\n",
       "</table>\n",
       "<p>80000 rows × 1 columns</p>\n",
       "</div>"
      ],
      "text/plain": [
       "       Predicted Loan Rate\n",
       "0                 0.160241\n",
       "1                 0.074915\n",
       "2                 0.136737\n",
       "3                 0.175506\n",
       "4                 0.116593\n",
       "...                    ...\n",
       "79995             0.079942\n",
       "79996             0.199864\n",
       "79997             0.163958\n",
       "79998             0.138163\n",
       "79999             0.128020\n",
       "\n",
       "[80000 rows x 1 columns]"
      ]
     },
     "execution_count": 133,
     "metadata": {},
     "output_type": "execute_result"
    }
   ],
   "source": [
    "hold_out_pred"
   ]
  },
  {
   "cell_type": "code",
   "execution_count": 134,
   "metadata": {},
   "outputs": [],
   "source": [
    "df_holdout_original = pd.read_csv('/Users/Xingkang/Desktop/UChicago/Quarter 2/MSCA 31008 Data Mining Principles/Assignment_3/Loan_Prediction/Holdout for Testing.csv')"
   ]
  },
  {
   "cell_type": "code",
   "execution_count": 135,
   "metadata": {},
   "outputs": [],
   "source": [
    "Final = pd.concat((hold_out_pred,df_holdout_original),axis=1)"
   ]
  },
  {
   "cell_type": "code",
   "execution_count": 136,
   "metadata": {},
   "outputs": [],
   "source": [
    "Final.drop('X1',axis=1,inplace=True)"
   ]
  },
  {
   "cell_type": "code",
   "execution_count": 137,
   "metadata": {},
   "outputs": [],
   "source": [
    "import os\n",
    "current_path = os.getcwd()"
   ]
  },
  {
   "cell_type": "code",
   "execution_count": 138,
   "metadata": {},
   "outputs": [
    {
     "data": {
      "text/plain": [
       "'/Users/Xingkang/Desktop'"
      ]
     },
     "execution_count": 138,
     "metadata": {},
     "output_type": "execute_result"
    }
   ],
   "source": [
    "current_path"
   ]
  },
  {
   "cell_type": "code",
   "execution_count": 139,
   "metadata": {},
   "outputs": [],
   "source": [
    "Final.to_csv('Results from Jack Gao.csv')"
   ]
  },
  {
   "cell_type": "markdown",
   "metadata": {},
   "source": [
    "### Final Thoughts:"
   ]
  },
  {
   "cell_type": "markdown",
   "metadata": {},
   "source": [
    "We used five different models for regesssion analysis here, and they all have their pros and cons. We started with the most basic models such as Linear Regression and Decison Tree Regression, and they turned out to produce very good results. Those two models are easy to understand and are not computing expensive. The potential problem for them is overfitting, but we prevented it by selecting the appropriate and relevant features, and we confirmed no overfitting by doing cross validaiton. Support Vector Machine is also very straight forward without much computing expense, but the result is not as good as Linear Regression and Decision Tree. Finally, Random Forrest and KNN are the more advanced modeling techniques, and they both require much more computing power. Random Forrest can effective prevent overfitting, but the cost you pay is much difficulty to interpret the model. Finally, KNN regressor gives relatively small RMSE, but its computing time is by the far the longest among all the models."
   ]
  }
 ],
 "metadata": {
  "kernelspec": {
   "display_name": "Python 3",
   "language": "python",
   "name": "python3"
  },
  "language_info": {
   "codemirror_mode": {
    "name": "ipython",
    "version": 3
   },
   "file_extension": ".py",
   "mimetype": "text/x-python",
   "name": "python",
   "nbconvert_exporter": "python",
   "pygments_lexer": "ipython3",
   "version": "3.7.0"
  }
 },
 "nbformat": 4,
 "nbformat_minor": 4
}
